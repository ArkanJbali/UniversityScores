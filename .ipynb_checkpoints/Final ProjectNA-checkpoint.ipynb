{
 "cells": [
  {
   "cell_type": "markdown",
   "metadata": {},
   "source": [
    "# Course Final Project"
   ]
  },
  {
   "cell_type": "markdown",
   "metadata": {},
   "source": [
    "### Student name: <font color=red>Arkan Jbali</font>"
   ]
  },
  {
   "cell_type": "raw",
   "metadata": {},
   "source": [
    "This is the final project of the course.\n",
    "The project will recieve 20% of the total marks \n",
    "You can work in pair (a team of two on the project)\n",
    "Please work out the project on the same jupyter notebook file and upload it to the course moodle \n"
   ]
  },
  {
   "cell_type": "markdown",
   "metadata": {},
   "source": [
    "In this project you need to practice data analysis on the dataset in the file University_score.csv, provided for that \n",
    "purpose. The data file list the university score, the Tawjihi score, the level of anxiety and the number of study hours per week for number of students. \n",
    "\n",
    "the data file looks like this: \n",
    "\n",
    "Univ_score\tStudy_Hours\t Anxiety\tTawjihi\n",
    "62          \t40\t       40\t      24\n",
    "58          \t31\t      65\t      20\n",
    "52\t            35\t       34         22\n",
    "\n",
    "For that file please do the following "
   ]
  },
  {
   "cell_type": "code",
   "execution_count": 1,
   "metadata": {},
   "outputs": [],
   "source": [
    "# Libraries needed to workout the project \n",
    "\n",
    "import numpy as np\n",
    "import pandas as pd\n",
    "import matplotlib.pyplot as plt\n"
   ]
  },
  {
   "cell_type": "raw",
   "metadata": {},
   "source": []
  },
  {
   "cell_type": "code",
   "execution_count": 2,
   "metadata": {},
   "outputs": [
    {
     "data": {
      "text/html": [
       "<div>\n",
       "<style scoped>\n",
       "    .dataframe tbody tr th:only-of-type {\n",
       "        vertical-align: middle;\n",
       "    }\n",
       "\n",
       "    .dataframe tbody tr th {\n",
       "        vertical-align: top;\n",
       "    }\n",
       "\n",
       "    .dataframe thead th {\n",
       "        text-align: right;\n",
       "    }\n",
       "</style>\n",
       "<table border=\"1\" class=\"dataframe\">\n",
       "  <thead>\n",
       "    <tr style=\"text-align: right;\">\n",
       "      <th></th>\n",
       "      <th>Univ_score</th>\n",
       "      <th>Study_Hours</th>\n",
       "      <th>Anxiety</th>\n",
       "      <th>Tawjihi</th>\n",
       "    </tr>\n",
       "  </thead>\n",
       "  <tbody>\n",
       "    <tr>\n",
       "      <th>0</th>\n",
       "      <td>62</td>\n",
       "      <td>40</td>\n",
       "      <td>40</td>\n",
       "      <td>24</td>\n",
       "    </tr>\n",
       "    <tr>\n",
       "      <th>1</th>\n",
       "      <td>58</td>\n",
       "      <td>31</td>\n",
       "      <td>65</td>\n",
       "      <td>20</td>\n",
       "    </tr>\n",
       "    <tr>\n",
       "      <th>2</th>\n",
       "      <td>52</td>\n",
       "      <td>35</td>\n",
       "      <td>34</td>\n",
       "      <td>22</td>\n",
       "    </tr>\n",
       "    <tr>\n",
       "      <th>3</th>\n",
       "      <td>55</td>\n",
       "      <td>26</td>\n",
       "      <td>91</td>\n",
       "      <td>22</td>\n",
       "    </tr>\n",
       "    <tr>\n",
       "      <th>4</th>\n",
       "      <td>75</td>\n",
       "      <td>51</td>\n",
       "      <td>46</td>\n",
       "      <td>28</td>\n",
       "    </tr>\n",
       "  </tbody>\n",
       "</table>\n",
       "</div>"
      ],
      "text/plain": [
       "   Univ_score  Study_Hours  Anxiety  Tawjihi\n",
       "0          62           40       40       24\n",
       "1          58           31       65       20\n",
       "2          52           35       34       22\n",
       "3          55           26       91       22\n",
       "4          75           51       46       28"
      ]
     },
     "execution_count": 2,
     "metadata": {},
     "output_type": "execute_result"
    }
   ],
   "source": [
    "# import the file 'University_score.csv'\n",
    "# and list the 1st five scores of the file \n",
    "\n",
    "UniversityScore = pd.read_csv('University_score.csv')\n",
    "UniversityScore.head()"
   ]
  },
  {
   "cell_type": "code",
   "execution_count": 3,
   "metadata": {},
   "outputs": [
    {
     "name": "stdout",
     "output_type": "stream",
     "text": [
      "<class 'pandas.core.frame.DataFrame'>\n",
      "RangeIndex: 20 entries, 0 to 19\n",
      "Data columns (total 4 columns):\n",
      " #   Column       Non-Null Count  Dtype\n",
      "---  ------       --------------  -----\n",
      " 0   Univ_score   20 non-null     int64\n",
      " 1   Study_Hours  20 non-null     int64\n",
      " 2   Anxiety      20 non-null     int64\n",
      " 3   Tawjihi      20 non-null     int64\n",
      "dtypes: int64(4)\n",
      "memory usage: 768.0 bytes\n"
     ]
    }
   ],
   "source": [
    "# List all variables included in the file in addition to their data types \n",
    "\n",
    "UniversityScore.info()"
   ]
  },
  {
   "cell_type": "code",
   "execution_count": 4,
   "metadata": {},
   "outputs": [
    {
     "data": {
      "text/plain": [
       "Univ_score     int64\n",
       "Study_Hours    int64\n",
       "Anxiety        int64\n",
       "Tawjihi        int64\n",
       "dtype: object"
      ]
     },
     "execution_count": 4,
     "metadata": {},
     "output_type": "execute_result"
    }
   ],
   "source": [
    "# Change the data type of 'Anxiety' into float46\n",
    "UniversityScore.dtypes\n"
   ]
  },
  {
   "cell_type": "markdown",
   "metadata": {},
   "source": [
    "# Descriptive Analysis "
   ]
  },
  {
   "cell_type": "markdown",
   "metadata": {},
   "source": [
    "### Answer the following questions realted to descriptive analysis: "
   ]
  },
  {
   "cell_type": "code",
   "execution_count": 5,
   "metadata": {},
   "outputs": [
    {
     "data": {
      "text/plain": [
       "Univ_score     61.00\n",
       "Study_Hours    39.15\n",
       "Anxiety        49.30\n",
       "Tawjihi        23.20\n",
       "dtype: float64"
      ]
     },
     "execution_count": 5,
     "metadata": {},
     "output_type": "execute_result"
    }
   ],
   "source": [
    "#  Find the average value (mean) of all variables \n",
    "\n",
    "UniversityScore.mean()"
   ]
  },
  {
   "cell_type": "code",
   "execution_count": 6,
   "metadata": {},
   "outputs": [
    {
     "data": {
      "text/html": [
       "<div>\n",
       "<style scoped>\n",
       "    .dataframe tbody tr th:only-of-type {\n",
       "        vertical-align: middle;\n",
       "    }\n",
       "\n",
       "    .dataframe tbody tr th {\n",
       "        vertical-align: top;\n",
       "    }\n",
       "\n",
       "    .dataframe thead th {\n",
       "        text-align: right;\n",
       "    }\n",
       "</style>\n",
       "<table border=\"1\" class=\"dataframe\">\n",
       "  <thead>\n",
       "    <tr style=\"text-align: right;\">\n",
       "      <th></th>\n",
       "      <th>Univ_score</th>\n",
       "      <th>Study_Hours</th>\n",
       "      <th>Anxiety</th>\n",
       "      <th>Tawjihi</th>\n",
       "    </tr>\n",
       "  </thead>\n",
       "  <tbody>\n",
       "    <tr>\n",
       "      <th>count</th>\n",
       "      <td>20.000000</td>\n",
       "      <td>20.0000</td>\n",
       "      <td>20.000000</td>\n",
       "      <td>20.000000</td>\n",
       "    </tr>\n",
       "    <tr>\n",
       "      <th>mean</th>\n",
       "      <td>61.000000</td>\n",
       "      <td>39.1500</td>\n",
       "      <td>49.300000</td>\n",
       "      <td>23.200000</td>\n",
       "    </tr>\n",
       "    <tr>\n",
       "      <th>std</th>\n",
       "      <td>10.964056</td>\n",
       "      <td>9.0744</td>\n",
       "      <td>18.910036</td>\n",
       "      <td>3.205259</td>\n",
       "    </tr>\n",
       "    <tr>\n",
       "      <th>min</th>\n",
       "      <td>38.000000</td>\n",
       "      <td>25.0000</td>\n",
       "      <td>13.000000</td>\n",
       "      <td>18.000000</td>\n",
       "    </tr>\n",
       "    <tr>\n",
       "      <th>25%</th>\n",
       "      <td>55.000000</td>\n",
       "      <td>31.7500</td>\n",
       "      <td>37.750000</td>\n",
       "      <td>20.000000</td>\n",
       "    </tr>\n",
       "    <tr>\n",
       "      <th>50%</th>\n",
       "      <td>62.000000</td>\n",
       "      <td>39.5000</td>\n",
       "      <td>53.000000</td>\n",
       "      <td>24.000000</td>\n",
       "    </tr>\n",
       "    <tr>\n",
       "      <th>75%</th>\n",
       "      <td>68.000000</td>\n",
       "      <td>45.2500</td>\n",
       "      <td>61.000000</td>\n",
       "      <td>26.000000</td>\n",
       "    </tr>\n",
       "    <tr>\n",
       "      <th>max</th>\n",
       "      <td>82.000000</td>\n",
       "      <td>61.0000</td>\n",
       "      <td>91.000000</td>\n",
       "      <td>28.000000</td>\n",
       "    </tr>\n",
       "  </tbody>\n",
       "</table>\n",
       "</div>"
      ],
      "text/plain": [
       "       Univ_score  Study_Hours    Anxiety    Tawjihi\n",
       "count   20.000000      20.0000  20.000000  20.000000\n",
       "mean    61.000000      39.1500  49.300000  23.200000\n",
       "std     10.964056       9.0744  18.910036   3.205259\n",
       "min     38.000000      25.0000  13.000000  18.000000\n",
       "25%     55.000000      31.7500  37.750000  20.000000\n",
       "50%     62.000000      39.5000  53.000000  24.000000\n",
       "75%     68.000000      45.2500  61.000000  26.000000\n",
       "max     82.000000      61.0000  91.000000  28.000000"
      ]
     },
     "execution_count": 6,
     "metadata": {},
     "output_type": "execute_result"
    }
   ],
   "source": [
    "# write the code which gives the following output, which is the complete describtives of all variables  \n",
    "UniversityScore.describe(include='all')\n"
   ]
  },
  {
   "cell_type": "raw",
   "metadata": {},
   "source": [
    "        Univ_score\tStudy_Hours\tAnxiety  \tTawjihi\n",
    "count\t20.000000\t20.0000\t   20.000000\t20.000000\n",
    "mean\t61.000000\t39.1500    49.300000\t23.200000\n",
    "std\t   10.964056\t9.0744\t   18.910036\t3.205259\n",
    "min\t   38.000000\t25.0000\t   13.000000\t18.000000\n",
    "25%\t   55.000000\t31.7500\t   37.750000\t20.000000\n",
    "50%\t   62.000000\t39.5000    53.000000\t24.000000\n",
    "75%\t   68.000000\t45.2500    61.000000\t26.000000\n",
    "max\t   82.000000\t61.0000    91.000000\t28.000000"
   ]
  },
  {
   "cell_type": "code",
   "execution_count": 7,
   "metadata": {},
   "outputs": [
    {
     "data": {
      "image/png": "[encoded data removed]",
      "text/plain": [
       "<Figure size 432x288 with 1 Axes>"
      ]
     },
     "metadata": {
      "needs_background": "light"
     },
     "output_type": "display_data"
    }
   ],
   "source": [
    "# write the code which generates the boxplot for noth the university score and the Tawjihi \n",
    "boxplot = UniversityScore.boxplot(column=['Univ_score', 'Tawjihi'])\n"
   ]
  },
  {
   "cell_type": "markdown",
   "metadata": {
    "scrolled": true
   },
   "source": [
    "\n"
   ]
  },
  {
   "cell_type": "markdown",
   "metadata": {},
   "source": [
    "# Correlation Analysis"
   ]
  },
  {
   "cell_type": "code",
   "execution_count": 8,
   "metadata": {},
   "outputs": [
    {
     "data": {
      "image/png": "[encoded data removed]",
      "text/plain": [
       "<Figure size 432x288 with 1 Axes>"
      ]
     },
     "metadata": {
      "needs_background": "light"
     },
     "output_type": "display_data"
    }
   ],
   "source": [
    "# draw the scattr plot between Univ_score and Tawjihi to see the realtion between these two variables looks like \n",
    "\n",
    "\n",
    "x = UniversityScore['Tawjihi']\n",
    "y = UniversityScore['Univ_score']\n",
    "# area = np.pi*5\n",
    "\n",
    "# Plot\n",
    "\n",
    "plt.scatter(x, y)\n",
    "plt.title('Correlation b/w University & Tawjihi Scores')\n",
    "plt.xlabel('Tawjihi')\n",
    "plt.ylabel('Univ_score')\n",
    "\n",
    "#Get the current Axes instance on the current figure\n",
    "axes = plt.gca()\n",
    "# np.ployfit pndarray, shape (deg + 1,) or (deg + 1, K)\n",
    "# Polynomial coefficients, highest power first. If y was 2-D, \n",
    "# the coefficients for k-th data set are in p[:,k].\n",
    "m, b = np.polyfit(x, y, 1)\n",
    "#Y= mx + b ->  intercept(b) and slope(m)\n",
    "X_plot = np.linspace(axes.get_xlim()[0],axes.get_xlim()[1],100)\n",
    "plt.plot(X_plot, m*X_plot + b, '-')\n",
    "    \n",
    "plt.show()\n",
    "\n",
    "\n"
   ]
  },
  {
   "cell_type": "markdown",
   "metadata": {},
   "source": [
    "comment on the scatter plot .... what can you say about the relation between Univ_score and Tawjihi\n",
    "### - There is a moderate positive relationship between the university & tawjihi scores, we can notice that when the tawjihi score high the university may could be high too.\n",
    "\n",
    "\n",
    "\n"
   ]
  },
  {
   "cell_type": "code",
   "execution_count": 9,
   "metadata": {},
   "outputs": [
    {
     "data": {
      "text/html": [
       "<div>\n",
       "<style scoped>\n",
       "    .dataframe tbody tr th:only-of-type {\n",
       "        vertical-align: middle;\n",
       "    }\n",
       "\n",
       "    .dataframe tbody tr th {\n",
       "        vertical-align: top;\n",
       "    }\n",
       "\n",
       "    .dataframe thead th {\n",
       "        text-align: right;\n",
       "    }\n",
       "</style>\n",
       "<table border=\"1\" class=\"dataframe\">\n",
       "  <thead>\n",
       "    <tr style=\"text-align: right;\">\n",
       "      <th></th>\n",
       "      <th>Univ_score</th>\n",
       "      <th>Study_Hours</th>\n",
       "      <th>Anxiety</th>\n",
       "      <th>Tawjihi</th>\n",
       "    </tr>\n",
       "  </thead>\n",
       "  <tbody>\n",
       "    <tr>\n",
       "      <th>Univ_score</th>\n",
       "      <td>1.000000</td>\n",
       "      <td>0.821011</td>\n",
       "      <td>-0.118296</td>\n",
       "      <td>0.871636</td>\n",
       "    </tr>\n",
       "    <tr>\n",
       "      <th>Study_Hours</th>\n",
       "      <td>0.821011</td>\n",
       "      <td>1.000000</td>\n",
       "      <td>-0.339504</td>\n",
       "      <td>0.731773</td>\n",
       "    </tr>\n",
       "    <tr>\n",
       "      <th>Anxiety</th>\n",
       "      <td>-0.118296</td>\n",
       "      <td>-0.339504</td>\n",
       "      <td>1.000000</td>\n",
       "      <td>-0.244178</td>\n",
       "    </tr>\n",
       "    <tr>\n",
       "      <th>Tawjihi</th>\n",
       "      <td>0.871636</td>\n",
       "      <td>0.731773</td>\n",
       "      <td>-0.244178</td>\n",
       "      <td>1.000000</td>\n",
       "    </tr>\n",
       "  </tbody>\n",
       "</table>\n",
       "</div>"
      ],
      "text/plain": [
       "             Univ_score  Study_Hours   Anxiety   Tawjihi\n",
       "Univ_score     1.000000     0.821011 -0.118296  0.871636\n",
       "Study_Hours    0.821011     1.000000 -0.339504  0.731773\n",
       "Anxiety       -0.118296    -0.339504  1.000000 -0.244178\n",
       "Tawjihi        0.871636     0.731773 -0.244178  1.000000"
      ]
     },
     "execution_count": 9,
     "metadata": {},
     "output_type": "execute_result"
    }
   ],
   "source": [
    "# what you see below are correlations between the different variables included in the data set \n",
    "\n",
    "UniversityScore.corr(method = 'pearson')\n",
    "\n",
    "# use the table to answer the question the follows \n",
    "# important remark: please execlude the correation between the variable and itself, since this is always 1, e.g. \n",
    "# correlation between Univ_score and Univ_score = 1, .... "
   ]
  },
  {
   "cell_type": "markdown",
   "metadata": {},
   "source": [
    "1- Which two variables have the highest positive correlation?\n",
    "   <font color=blue>\n",
    "   - We saw that there is a strong relationship between University & Tawjihi scores. = 0.871636\n",
    "    </font>\n",
    "    \n",
    "2- Which two variables has the highest negative correlation?\n",
    "   <font color=blue>\n",
    "   - We saw that there is very weak relationship between the study hours & anxiety = -0.339504\n",
    "   </font>\n",
    "   \n",
    "3- Which variable has the highest correlation with the Univ_score?\n",
    "   <font color=blue>\n",
    "   - We saw that there is a strong relationship between University & Tawjihi scores. = 0.871636\n",
    "   </font>\n",
    "   \n",
    "4- Which variable has the lowest impact on the Univ_score?\n",
    "   <font color=blue>\n",
    "   - Anxiety = -0.118296, probably, there is no relationship between them.\n",
    "   </font>\n",
    "   \n",
    "5- what happens to your Univ_score if you study more hours?\n",
    "   <font color=blue>\n",
    "   - Will be increased because its also has a high correlation which also can be affected. = 0.821011\n",
    "   </font>\n",
    "   "
   ]
  },
  {
   "cell_type": "markdown",
   "metadata": {},
   "source": [
    "# Regression Analysis "
   ]
  },
  {
   "cell_type": "markdown",
   "metadata": {},
   "source": [
    "In this part you are supposed to do a regression analysis for the data included in the data file.\n",
    "try to do regression analysis for the equation\n",
    "   <font color=red>\n",
    "   - Univ_score = constant + (coef1 * Tawjihi) + (coef2 * Study_Hours) + (coef3 * Anxiety)\n",
    "   </font>\n",
    "      \n",
    "The analysis is done and you are supposed to answer the questions that follow ...\n",
    "    "
   ]
  },
  {
   "cell_type": "code",
   "execution_count": 10,
   "metadata": {},
   "outputs": [],
   "source": [
    "# from sklearn linear models, import linear regression module \n",
    "\n",
    "from sklearn.linear_model import LinearRegression "
   ]
  },
  {
   "cell_type": "code",
   "execution_count": 11,
   "metadata": {},
   "outputs": [],
   "source": [
    "# for this example. create a linear regression object \n",
    "\n",
    "lr = LinearRegression()"
   ]
  },
  {
   "cell_type": "code",
   "execution_count": 12,
   "metadata": {},
   "outputs": [],
   "source": [
    "# Select the Y which is Univ_score \n",
    "# and \n",
    "# Select the X variables which are Tawjihi, Study_Hours, and Anxiety \n",
    "\n",
    "Y = UniversityScore['Univ_score']\n",
    "X = UniversityScore[['Tawjihi', 'Study_Hours', 'Anxiety']]\n"
   ]
  },
  {
   "cell_type": "code",
   "execution_count": 13,
   "metadata": {},
   "outputs": [
    {
     "data": {
      "text/plain": [
       "LinearRegression(copy_X=True, fit_intercept=True, n_jobs=None, normalize=False)"
      ]
     },
     "execution_count": 13,
     "metadata": {},
     "output_type": "execute_result"
    }
   ],
   "source": [
    "from sklearn.model_selection import train_test_split\n",
    "\n",
    "\n",
    "xTrain, xTest, yTrain, yTest = train_test_split(X, Y, train_size = 0.6)\n",
    "\n",
    "# perform the linear regression \n",
    "\n",
    "lr.fit(xTrain, yTrain)"
   ]
  },
  {
   "cell_type": "code",
   "execution_count": 14,
   "metadata": {},
   "outputs": [
    {
     "data": {
      "text/plain": [
       "-17.222067439596835"
      ]
     },
     "execution_count": 14,
     "metadata": {},
     "output_type": "execute_result"
    }
   ],
   "source": [
    "# to see the model intercept ...\n",
    "lr.intercept_"
   ]
  },
  {
   "cell_type": "code",
   "execution_count": 15,
   "metadata": {},
   "outputs": [
    {
     "data": {
      "text/plain": [
       "array([2.68250304, 0.26465841, 0.12777876])"
      ]
     },
     "execution_count": 15,
     "metadata": {},
     "output_type": "execute_result"
    }
   ],
   "source": [
    "# to see the model coefficients ...\n",
    "lr.coef_"
   ]
  },
  {
   "cell_type": "markdown",
   "metadata": {},
   "source": [
    "## Based on that answer the following questions ..."
   ]
  },
  {
   "cell_type": "markdown",
   "metadata": {},
   "source": [
    "### 1- what is the coefficient of the Tawjihi variable"
   ]
  },
  {
   "cell_type": "code",
   "execution_count": 16,
   "metadata": {},
   "outputs": [
    {
     "name": "stdout",
     "output_type": "stream",
     "text": [
      "('Tawjihi -> Coefficient is: ', 2.68250304028563)\n"
     ]
    }
   ],
   "source": [
    "\n",
    "coefVariables = pd.DataFrame(list(zip(xTrain.columns, lr.coef_)), columns=['variable','estimates'])\n",
    "coefTawjihi = coefVariables[\"variable\"][0] + ' -> Coefficient is: ', coefVariables[\"estimates\"][0]\n",
    "print(coefTawjihi)"
   ]
  },
  {
   "cell_type": "markdown",
   "metadata": {},
   "source": [
    "### 2- what is the coefficient of the Study_Hours variable "
   ]
  },
  {
   "cell_type": "code",
   "execution_count": 17,
   "metadata": {},
   "outputs": [
    {
     "name": "stdout",
     "output_type": "stream",
     "text": [
      "('Study_Hours -> Coefficient is: ', 0.26465840680426167)\n"
     ]
    }
   ],
   "source": [
    "coefStudyHours = coefVariables[\"variable\"][1] + ' -> Coefficient is: ', coefVariables[\"estimates\"][1]\n",
    "print(coefStudyHours)"
   ]
  },
  {
   "cell_type": "markdown",
   "metadata": {},
   "source": [
    "### 3- what is the coefficient of the Anxiety variable "
   ]
  },
  {
   "cell_type": "code",
   "execution_count": 18,
   "metadata": {},
   "outputs": [
    {
     "name": "stdout",
     "output_type": "stream",
     "text": [
      "('Anxiety -> Coefficient is: ', 0.12777875968089203)\n"
     ]
    }
   ],
   "source": [
    "coefAnxiety = coefVariables[\"variable\"][2] + ' -> Coefficient is: ', coefVariables[\"estimates\"][2]\n",
    "print(coefAnxiety)"
   ]
  },
  {
   "cell_type": "markdown",
   "metadata": {},
   "source": [
    "### 4- write down the complete formula for Univ_score variable, as a function of the other three variables"
   ]
  },
  {
   "cell_type": "raw",
   "metadata": {},
   "source": [
    "Univ_score = lr.intercept_ +  (1.988 * Tawjihi)  + (0.551 * StudyHours) + (0.103 * Anxiety)"
   ]
  },
  {
   "cell_type": "markdown",
   "metadata": {},
   "source": [
    "### 5- suppose that a student has the following records for the different variables used in the study...\n",
    "  - Tawjihi = 25\n",
    "  - Study_Hours = 30\n",
    "  - Anxiety = 50\n",
    "#### Use the extracted formula to calculate its Univ_score "
   ]
  },
  {
   "cell_type": "code",
   "execution_count": 19,
   "metadata": {},
   "outputs": [
    {
     "data": {
      "text/plain": [
       "64.16919875571637"
      ]
     },
     "execution_count": 19,
     "metadata": {},
     "output_type": "execute_result"
    }
   ],
   "source": [
    "Univ_score = lr.intercept_ +  (coefTawjihi[1] * 25)  + (coefStudyHours[1] * 30) + (coefAnxiety[1] * 50)\n",
    "Univ_score"
   ]
  },
  {
   "cell_type": "markdown",
   "metadata": {},
   "source": [
    "# Prediction Part"
   ]
  },
  {
   "cell_type": "code",
   "execution_count": 20,
   "metadata": {},
   "outputs": [
    {
     "name": "stdout",
     "output_type": "stream",
     "text": [
      "[43.81282792 73.62360972 55.2376747  65.53884614 55.40052151 62.52712757\n",
      " 54.01485876 60.30198515]\n"
     ]
    }
   ],
   "source": [
    "# Making prediction using the testing set \n",
    "\n",
    "yPred = lr.predict(xTest)\n",
    "print(yPred)"
   ]
  },
  {
   "cell_type": "code",
   "execution_count": 21,
   "metadata": {},
   "outputs": [
    {
     "data": {
      "text/plain": [
       "0.6594500624112198"
      ]
     },
     "execution_count": 21,
     "metadata": {},
     "output_type": "execute_result"
    }
   ],
   "source": [
    "# to calculate the coefficient of determination (r2) score \n",
    "from sklearn.metrics import r2_score\n",
    "R2 = r2_score(yTest, yPred)\n",
    "R2"
   ]
  },
  {
   "cell_type": "code",
   "execution_count": 22,
   "metadata": {},
   "outputs": [
    {
     "data": {
      "text/html": [
       "<div>\n",
       "<style scoped>\n",
       "    .dataframe tbody tr th:only-of-type {\n",
       "        vertical-align: middle;\n",
       "    }\n",
       "\n",
       "    .dataframe tbody tr th {\n",
       "        vertical-align: top;\n",
       "    }\n",
       "\n",
       "    .dataframe thead th {\n",
       "        text-align: right;\n",
       "    }\n",
       "</style>\n",
       "<table border=\"1\" class=\"dataframe\">\n",
       "  <thead>\n",
       "    <tr style=\"text-align: right;\">\n",
       "      <th></th>\n",
       "      <th>Actual</th>\n",
       "      <th>Predicted</th>\n",
       "    </tr>\n",
       "  </thead>\n",
       "  <tbody>\n",
       "    <tr>\n",
       "      <th>6</th>\n",
       "      <td>38</td>\n",
       "      <td>43.812828</td>\n",
       "    </tr>\n",
       "    <tr>\n",
       "      <th>9</th>\n",
       "      <td>68</td>\n",
       "      <td>73.623610</td>\n",
       "    </tr>\n",
       "    <tr>\n",
       "      <th>14</th>\n",
       "      <td>65</td>\n",
       "      <td>55.237675</td>\n",
       "    </tr>\n",
       "    <tr>\n",
       "      <th>11</th>\n",
       "      <td>62</td>\n",
       "      <td>65.538846</td>\n",
       "    </tr>\n",
       "    <tr>\n",
       "      <th>2</th>\n",
       "      <td>52</td>\n",
       "      <td>55.400522</td>\n",
       "    </tr>\n",
       "    <tr>\n",
       "      <th>10</th>\n",
       "      <td>62</td>\n",
       "      <td>62.527128</td>\n",
       "    </tr>\n",
       "    <tr>\n",
       "      <th>7</th>\n",
       "      <td>55</td>\n",
       "      <td>54.014859</td>\n",
       "    </tr>\n",
       "    <tr>\n",
       "      <th>3</th>\n",
       "      <td>55</td>\n",
       "      <td>60.301985</td>\n",
       "    </tr>\n",
       "  </tbody>\n",
       "</table>\n",
       "</div>"
      ],
      "text/plain": [
       "    Actual  Predicted\n",
       "6       38  43.812828\n",
       "9       68  73.623610\n",
       "14      65  55.237675\n",
       "11      62  65.538846\n",
       "2       52  55.400522\n",
       "10      62  62.527128\n",
       "7       55  54.014859\n",
       "3       55  60.301985"
      ]
     },
     "execution_count": 22,
     "metadata": {},
     "output_type": "execute_result"
    }
   ],
   "source": [
    "df = pd.DataFrame({'Actual': yTest, 'Predicted': yPred})\n",
    "df"
   ]
  },
  {
   "cell_type": "code",
   "execution_count": 23,
   "metadata": {},
   "outputs": [
    {
     "data": {
      "image/png": "[encoded data removed]",
      "text/plain": [
       "<Figure size 720x432 with 1 Axes>"
      ]
     },
     "metadata": {
      "needs_background": "light"
     },
     "output_type": "display_data"
    }
   ],
   "source": [
    "df.plot(kind='bar',figsize=(10,6))\n",
    "plt.grid(which='major', linestyle='-', linewidth='0.5', color='green')\n",
    "plt.grid(which='minor', linestyle=':', linewidth='0.5', color='black')\n",
    "plt.show()"
   ]
  },
  {
   "cell_type": "code",
   "execution_count": null,
   "metadata": {},
   "outputs": [],
   "source": []
  }
 ],
 "metadata": {
  "kernelspec": {
   "display_name": "Python 3",
   "language": "python",
   "name": "python3"
  },
  "language_info": {
   "codemirror_mode": {
    "name": "ipython",
    "version": 3
   },
   "file_extension": ".py",
   "mimetype": "text/x-python",
   "name": "python",
   "nbconvert_exporter": "python",
   "pygments_lexer": "ipython3",
   "version": "3.7.6"
  }
 },
 "nbformat": 4,
 "nbformat_minor": 2
}
